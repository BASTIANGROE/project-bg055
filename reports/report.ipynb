{
 "cells": [
  {
   "cell_type": "code",
   "execution_count": null,
   "id": "c070c535-1b2c-4be0-a257-dba4a77c9d9b",
   "metadata": {},
   "outputs": [],
   "source": [
    "#Finale Abgabe"
   ]
  }
 ],
 "metadata": {
  "kernelspec": {
   "display_name": "Python 3 (ipykernel)",
   "language": "python",
   "name": "python3"
  },
  "language_info": {
   "codemirror_mode": {
    "name": "ipython",
    "version": 3
   },
   "file_extension": ".py",
   "mimetype": "text/x-python",
   "name": "python",
   "nbconvert_exporter": "python",
   "pygments_lexer": "ipython3",
   "version": "3.12.4"
  }
 },
 "nbformat": 4,
 "nbformat_minor": 5
}
